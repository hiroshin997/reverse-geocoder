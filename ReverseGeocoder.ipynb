{
 "cells": [
  {
   "cell_type": "markdown",
   "metadata": {},
   "source": [
    "# Reverse Geocoder with OSM data\n",
    "This notebook is to build reverse geocoder, which responses location address name from latitude and longitude that a user requests. Source of the geolocation data comes from OpenStreetMap.\n",
    "\n",
    "**NOTE**: This script was tested with only OSM Japan and Kanto regions data.\n",
    "\n",
    "Here are rough steps\n",
    "1. Download and decompress OSM file of a region\n",
    "2. Extract shape data of all administrative boundaries from OSM file, such as prefecture, city, town, and so on.\n",
    "3. Create bounding box data per administrative boundary, and make 2 sorted lists of all bounding boxes. One is sorted by latitude and the other is by longitude. If a user requests with latitude and longitude, it retrieves matching boxes by latitude and longitude seperately, and intersects the result sets as candidates for the next step.\n",
    "<img src=\"./img/boundingbox.png\">\n",
    "4. Create line list consisting per administrative boundary, and sort the list by latitude. Each line is a vector from Node\\[i\\] to Node\\[i+1\\]. This is used to judge if a line is right or left side against latitude & longitude user inputs. First it retrieves all lines covering user's latitude. Then it calculates cross of 2 vectors per line. One vector is from user's latitude & longitude to start point of the line (=Node\\[i\\]), the other is from user's latitude & longitude to the other end point(=Node\\[i+1\\]). If value of the cross is positive, the line is on the right from user's latitude & longitude. Otherwise it's on the left.\n",
    "<img src=\"./img/cross.png\">\n",
    "Then imagine holizontal line from user's latitude and longitude to infinity, and count the intersections of the lines consisting of the boundary. If the number is odd, the requested location is inside of the boundary. Otherwise it's outside.\n",
    "<img src=\"./img/intersections.png\">\n"
   ]
  },
  {
   "cell_type": "code",
   "execution_count": 4,
   "metadata": {},
   "outputs": [],
   "source": [
    "import bisect\n",
    "import bz2\n",
    "import codecs\n",
    "import copy\n",
    "import datetime\n",
    "import itertools\n",
    "import json\n",
    "import matplotlib\n",
    "import matplotlib.pyplot as plt\n",
    "import math\n",
    "import numpy as np\n",
    "import os\n",
    "import pandas as pd\n",
    "import re\n",
    "import pickle\n",
    "import sys\n",
    "import time\n",
    "import unicodedata\n",
    "import urllib.request\n",
    "import xml.etree.ElementTree as ET\n",
    "\n",
    "import logging\n",
    "logging.basicConfig(format=\"%(asctime)s : %(levelname)s : %(message)s\", level=logging.INFO)\n",
    "logging.basicConfig(format=\"%(asctime)s : %(levelname)s : %(message)s\", level=logging.WARNING)\n",
    "\n",
    "projectDir = 'ReverseGeocoder'\n"
   ]
  },
  {
   "cell_type": "markdown",
   "metadata": {},
   "source": [
    "## download and decompress OSM file"
   ]
  },
  {
   "cell_type": "code",
   "execution_count": 5,
   "metadata": {},
   "outputs": [],
   "source": [
    "url = 'http://download.geofabrik.de/asia/japan-latest.osm.bz2'\n",
    "#url = 'http://download.geofabrik.de/asia/japan/kanto-latest.osm.bz2'\n",
    "\n",
    "compressedFile = os.path.join(projectDir, url.split(\"/\")[-1])\n",
    "osmFile = compressedFile.replace('.bz2', '')\n",
    "\n",
    "if not os.path.exists(osmFile):\n",
    "    logging.info(\"start downloading []\".format(compressedFile))\n",
    "    start = time.time()\n",
    "    urllib.request.urlretrieve(url, compressedFile)\n",
    "    logging.info(\"completed to download {}\".format(compressedFile))\n",
    "    with open(compressedFile, 'rb') as rf, open(osmFile, 'wb') as wf:\n",
    "        wf.write(bz2.decompress(rf.read()))\n",
    "    logging.info(\"completed to decompress to {}(elapsed time:{:.3f})\".format(osmFile, time.time() - start))"
   ]
  },
  {
   "cell_type": "markdown",
   "metadata": {},
   "source": [
    "## Iterator to extract partial element blocks as single XMLs"
   ]
  },
  {
   "cell_type": "code",
   "execution_count": 6,
   "metadata": {},
   "outputs": [],
   "source": [
    "class XmlPartialExtractor:\n",
    "    def __init__(self, filename, tag):\n",
    "        self.filename = filename\n",
    "        self.f = codecs.open(filename, \"r\", \"utf-8\")\n",
    "        self.tag = tag\n",
    "        self.tagOpener = '<{} '.format(tag)\n",
    "        self.tagClosure = '</{}>'.format(tag)\n",
    "        self.lineCount = 0\n",
    "        \n",
    "    def __iter__(self):\n",
    "        return self\n",
    "    \n",
    "    def __next__(self):\n",
    "        line = self.f.readline()\n",
    "        self.lineCount += 1\n",
    "        inElement = False\n",
    "        buffer = []\n",
    "        while line:\n",
    "            line = line.strip()\n",
    "            if self.tagOpener in line:\n",
    "                if line.endswith('/>'):\n",
    "                    root = ET.fromstring('<root>' + line + '</root>')\n",
    "                    if root:\n",
    "                        return root\n",
    "                    else:\n",
    "                        logging.warining('failed to parse at line:{} in {}'.format(self.lineCount, self.filename))\n",
    "                        inElement = False\n",
    "                else:\n",
    "                    inElement = True\n",
    "                    buffer = []\n",
    "            elif self.tagClosure in line:\n",
    "                if inElement:\n",
    "                    buffer.append(line)\n",
    "                    buffer.insert(0, '<root>')\n",
    "                    buffer.append('</root>')\n",
    "                    root = ET.fromstring(''.join(buffer))\n",
    "                    if root:\n",
    "                        return root\n",
    "                    else:\n",
    "                        logging.warining('failed to parse at line:{} in {}'.format(self.lineCount, self.filename))\n",
    "                        inElement = False\n",
    "            if inElement:\n",
    "                buffer.append(line)\n",
    "            line = self.f.readline()\n",
    "            self.lineCount += 1\n",
    "        \n",
    "        self.f.close()\n",
    "        return None\n"
   ]
  },
  {
   "cell_type": "code",
   "execution_count": 7,
   "metadata": {},
   "outputs": [],
   "source": [
    "def xmlToString(root):\n",
    "    return ET.tostring(root, encoding='unicode')"
   ]
  },
  {
   "cell_type": "markdown",
   "metadata": {},
   "source": [
    "## read OSM file and extract &lt;relation/&gt; blocks with 'boundary':'administrative'"
   ]
  },
  {
   "cell_type": "code",
   "execution_count": 8,
   "metadata": {},
   "outputs": [],
   "source": [
    "adminBoundariesFile = os.path.join(projectDir, 'adminBoundaris.xml')\n",
    "\n",
    "if not os.path.exists(adminBoundariesFile):\n",
    "    logging.info(\"start extracting administrative boundary relation blocks from {}\".format(osmFile))\n",
    "    start = time.time()\n",
    "    relationExtractor = XmlPartialExtractor(osmFile, 'relation')\n",
    "    count = 0\n",
    "    with codecs.open(adminBoundariesFile, \"w\", \"utf-8\") as wf:\n",
    "        while True:\n",
    "            try:\n",
    "                root = next(relationExtractor)\n",
    "                if not root:\n",
    "                    break\n",
    "                for child in root.findall('./relation')[0]:\n",
    "                    if child.tag == 'tag' and 'k' in child.attrib and child.attrib['k'] == 'boundary' and 'v' in child.attrib and child.attrib['v'] == 'administrative':\n",
    "                        wf.write(xmlToString(root) + '\\n')\n",
    "                        count += 1\n",
    "            except StopIteration:\n",
    "                break\n",
    "    \n",
    "    logging.info(\"completed to extract {:,} of administrative boundary relation blocks to {}(elapsed time:{:.3f})\".format(count, adminBoundariesFile, time.time() - start))"
   ]
  },
  {
   "cell_type": "markdown",
   "metadata": {},
   "source": [
    "## read OSM again to extract &lt;way/&gt; blocks in administrative boundary &lt;relation/&gt; blocks"
   ]
  },
  {
   "cell_type": "code",
   "execution_count": 9,
   "metadata": {},
   "outputs": [],
   "source": [
    "memberWaysFile = os.path.join(projectDir, 'memberWays.xml')\n",
    "\n",
    "if not os.path.exists(memberWaysFile):\n",
    "    logging.info(\"start extracting member elements associated with administrative boundary relations from {}\".format(osmFile))\n",
    "    start = time.time()\n",
    "    waySet = set()\n",
    "    \n",
    "    with codecs.open(adminBoundariesFile, \"r\", \"utf-8\") as f:\n",
    "        line = f.readline()\n",
    "        while line:\n",
    "            root = ET.fromstring(line.strip())\n",
    "            for child in root.findall('./relation')[0]:\n",
    "                if 'type' in child.attrib and child.attrib['type'] == 'way' and 'ref' in child.attrib:\n",
    "                    waySet.add(child.attrib['ref'])\n",
    "            line = f.readline()\n",
    "            \n",
    "    logging.info('completed to extract {} unique ways from {}'.format(len(waySet), adminBoundariesFile))\n",
    "\n",
    "    wayCount = 0\n",
    "    with codecs.open(memberWaysFile, \"w\", \"utf-8\") as f:\n",
    "        wayExtractor = XmlPartialExtractor(osmFile, 'way')\n",
    "        while True:\n",
    "            try:\n",
    "                root = next(wayExtractor)\n",
    "                if not root:\n",
    "                    break\n",
    "                way = root.findall('./way')[0]\n",
    "                if 'id' in way.attrib and way.attrib['id'] in waySet:\n",
    "                    f.write(xmlToString(root) + \"\\n\")\n",
    "                    wayCount += 1\n",
    "            except StopIteration:\n",
    "                break\n",
    "                    \n",
    "    logging.info('completed to extract {:,} member elements with type=\"way\" to {}(elapsed time:{:.3f})'.format(wayCount, memberWaysFile, time.time() - start))\n"
   ]
  },
  {
   "cell_type": "markdown",
   "metadata": {},
   "source": [
    "## class definitions of nodes, ways, relations of administrative boundaries"
   ]
  },
  {
   "cell_type": "code",
   "execution_count": 10,
   "metadata": {},
   "outputs": [],
   "source": [
    "class Node:\n",
    "    def __init__(self, id, lat, lon):\n",
    "        self.id = id\n",
    "        self.lat = lat\n",
    "        self.lon = lon       \n",
    "\n",
    "class Way:\n",
    "    def __init__(self, id):\n",
    "        self.id = id\n",
    "        self.nodes = []\n",
    "\n",
    "class AdminBoundary:\n",
    "    def __init__(self, id):\n",
    "        self.id = id\n",
    "        self.name = None\n",
    "        self.ways = []\n",
    "        self.level = None\n",
    "        self.latVertexes = []\n",
    "        self.maxLatLen = 0\n",
    "        self.lineDict = {}"
   ]
  },
  {
   "cell_type": "markdown",
   "metadata": {},
   "source": [
    "## read OSM once more to extract &lt;node/&gt; blocks associated with administrative boundary &lt;way/&gt; blocks"
   ]
  },
  {
   "cell_type": "code",
   "execution_count": 11,
   "metadata": {},
   "outputs": [
    {
     "name": "stderr",
     "output_type": "stream",
     "text": [
      "2020-08-25 12:48:48,058 : INFO : completed to load nodeDict having 2,876,747 items to ReverseGeocoder\\nodeDict.pickle and way2NodesDict having 33,579 items to ReverseGeocoder\\way2NodesDict.pickle(elapsed time:7.908)\n"
     ]
    }
   ],
   "source": [
    "memberNodesFile = os.path.join(projectDir, 'memberNodes.xml')\n",
    "nodeDictFile = os.path.join(projectDir, 'nodeDict.pickle')\n",
    "way2NodesDictFile = os.path.join(projectDir, 'way2NodesDict.pickle') \n",
    "\n",
    "start = time.time()\n",
    "\n",
    "if not os.path.exists(nodeDictFile):\n",
    "    logging.info('start extracting nodes pointed in boundaries ways to {} and {}'.format(nodeDictFile, way2NodesDictFile))\n",
    "    nodeDict = {}\n",
    "    way2NodesDict = {}\n",
    "    nodeIdSet = set()\n",
    "\n",
    "    with codecs.open(memberWaysFile, 'r', 'utf-8') as f:\n",
    "        line = f.readline()\n",
    "        while line:\n",
    "            root = ET.fromstring(line.strip())\n",
    "            if root:\n",
    "                way = root.findall('./way')[0]\n",
    "                if 'id' in way.attrib:\n",
    "                    wayId = way.attrib['id']\n",
    "                    way2NodesDict[wayId] = []\n",
    "                    for child in way:\n",
    "                        if child.tag == 'nd' and 'ref' in child.attrib:\n",
    "                            nodeId = child.attrib['ref']\n",
    "                            way2NodesDict[wayId].append(nodeId)\n",
    "                            nodeIdSet.add(nodeId)\n",
    "            line = f.readline()\n",
    "            \n",
    "    logging.info('completed to extract {:,} unique ways having {:,} unique nodes from {}'.format(len(way2NodesDict), len(nodeIdSet), memberWaysFile))\n",
    "\n",
    "    with codecs.open(memberNodesFile, \"w\", \"utf-8\") as f:\n",
    "        nodeExtractor = XmlPartialExtractor(osmFile, 'node')\n",
    "        while True:\n",
    "            try:\n",
    "                root = next(nodeExtractor)\n",
    "                if not root:\n",
    "                    break\n",
    "                node = root.findall('./node')[0]\n",
    "                if 'id' in node.attrib:\n",
    "                    nodeId = node.attrib['id']\n",
    "                    if nodeId in nodeIdSet and 'lat' in node.attrib and 'lon' in node.attrib:\n",
    "                        lat = float(node.attrib['lat'])\n",
    "                        lon = float(node.attrib['lon'])\n",
    "                        nodeDict[nodeId] = Node(nodeId, lat, lon)\n",
    "                        f.write(xmlToString(root) + \"\\n\")\n",
    "            except StopIteration:\n",
    "                break\n",
    "            \n",
    "    with open(nodeDictFile, 'wb') as f:\n",
    "        pickle.dump(nodeDict, f)\n",
    "    with open(way2NodesDictFile, 'wb') as f:\n",
    "        pickle.dump(way2NodesDict, f)\n",
    "    logging.info('completed to save nodeDict having {:,} items to {} and way2NodesDict having {:,} items to {}(elapsed time:{:.3f})'.format(len(nodeDict), nodeDictFile, len(way2NodesDict), way2NodesDictFile, time.time() - start))\n",
    "else:\n",
    "    with open(nodeDictFile, 'rb') as f:\n",
    "        nodeDict = pickle.load(f)\n",
    "    with open(way2NodesDictFile, 'rb') as f:\n",
    "        way2NodesDict = pickle.load(f)\n",
    "    logging.info('completed to load nodeDict having {:,} items to {} and way2NodesDict having {:,} items to {}(elapsed time:{:.3f})'.format(len(nodeDict), nodeDictFile, len(way2NodesDict), way2NodesDictFile, time.time() - start))\n"
   ]
  },
  {
   "cell_type": "markdown",
   "metadata": {},
   "source": [
    "## Vertex is used for sorted list of bounding boxes. KeyWrappers is for binary search of vertexes"
   ]
  },
  {
   "cell_type": "code",
   "execution_count": 12,
   "metadata": {},
   "outputs": [],
   "source": [
    "class Vertex:\n",
    "    def __init__(self, id, vtype, value):\n",
    "        self.id = id\n",
    "        self.vtype = vtype\n",
    "        self.value = value\n",
    "        \n",
    "class KeyWrapper:\n",
    "    def __init__(self, iterable, key):\n",
    "        self.it = iterable\n",
    "        self.key = key\n",
    "\n",
    "    def __getitem__(self, i):\n",
    "        return self.key(self.it[i])\n",
    "\n",
    "    def __len__(self):\n",
    "        return len(self.it)"
   ]
  },
  {
   "cell_type": "code",
   "execution_count": 13,
   "metadata": {},
   "outputs": [],
   "source": [
    "def getLatLons(ab):\n",
    "    return [[(node.lat, node.lon) for node in way.nodes] for way in ab.ways]\n",
    "\n",
    "def getBoundingBox(latlons):\n",
    "    lats = [lat for lat, _ in itertools.chain.from_iterable(latlons)]\n",
    "    lons = [lon for _, lon in itertools.chain.from_iterable(latlons)]\n",
    "    return min(lats), min(lons), max(lats), max(lons)\n",
    "\n",
    "def getLines(latlons):\n",
    "    lines = []\n",
    "    for arr in latlons:\n",
    "        for i in range(len(arr) - 1):\n",
    "            lines.append(((arr[i][0], arr[i][1]), (arr[i + 1][0], arr[i + 1][1])))\n",
    "    return lines\n",
    "\n",
    "def getNodeDistance(node0, node1):\n",
    "    return np.sqrt((node0.lat- node1.lat)**2 + (node0.lon - node1.lon)**2)\n",
    "\n",
    "def getNodeDistance(node0, node1):\n",
    "    return np.sqrt((node0.lat- node1.lat)**2 + (node0.lon - node1.lon)**2)"
   ]
  },
  {
   "cell_type": "markdown",
   "metadata": {},
   "source": [
    "## create data about administrative boundaries"
   ]
  },
  {
   "cell_type": "code",
   "execution_count": 14,
   "metadata": {},
   "outputs": [
    {
     "name": "stderr",
     "output_type": "stream",
     "text": [
      "2020-08-25 12:49:37,686 : INFO : completed to load adminBoundaryDict having 10,603 items to ReverseGeocoder\\adminBoundaryDict.pickle(elapsed time:49.549)\n"
     ]
    }
   ],
   "source": [
    "adminBoundaryDictFile = os.path.join(projectDir, 'adminBoundaryDict.pickle')\n",
    "start = time.time()\n",
    "\n",
    "if not os.path.exists(adminBoundaryDictFile):\n",
    "    wayDict = {}\n",
    "    adminBoundaryDict = {}\n",
    "\n",
    "    for wayId, nodeIds in way2NodesDict.items():\n",
    "        way = Way(wayId)\n",
    "        for nodeId in nodeIds:\n",
    "            if not nodeId in nodeDict:\n",
    "                logging.warning(\"Node:{} of Way:{} is not found in nodeDict\".format(nodeId, wayId))\n",
    "            else:\n",
    "                way.nodes.append(nodeDict[nodeId])\n",
    "        wayDict[wayId] = way\n",
    "\n",
    "    imcompleteRelationIdSet = set()\n",
    "    missingWayIdSet = set()\n",
    "    imcompleteRelationDict = {}\n",
    "\n",
    "    with codecs.open(adminBoundariesFile, \"r\", \"utf-8\") as f:\n",
    "        line = f.readline()\n",
    "        while line:\n",
    "            root = ET.fromstring(line.strip())\n",
    "            if root:\n",
    "                relation = root.findall('./relation')[0]\n",
    "                if 'id' in relation.attrib:\n",
    "                    relationId = relation.attrib['id']\n",
    "                    adminBoundary = AdminBoundary(relationId)\n",
    "                    missingWays = []\n",
    "                    for child in relation:\n",
    "                        if child.tag == 'member' and 'type' in child.attrib and child.attrib['type'] == 'way' and 'ref' in child.attrib:\n",
    "                            wayId = child.attrib['ref']\n",
    "                            if not wayId in wayDict:\n",
    "                                imcompleteRelationIdSet.add(relationId)\n",
    "                                missingWayIdSet.add(wayId)\n",
    "                                imcompleteRelationDict[relationId] = wayId\n",
    "                                missingWays.append(wayId)\n",
    "                            else:\n",
    "                                adminBoundary.ways.append(wayDict[wayId])\n",
    "                        elif child.tag == 'tag':\n",
    "                            if 'k' in child.attrib and child.attrib['k'] == 'name' and 'v' in child.attrib:\n",
    "                                adminBoundary.name = child.attrib['v']\n",
    "                            elif 'k' in child.attrib and child.attrib['k'] == 'admin_level' and 'v' in child.attrib:\n",
    "                                adminBoundary.level = int(child.attrib['v'])\n",
    "                    if not adminBoundary.name:\n",
    "                        logging.warning(\"Id:{} has no name\".format(adminBoundary.id))\n",
    "                    elif missingWays:\n",
    "                        logging.warning(\"Id:{} Name:{} has missing way(s):{}\".format(adminBoundary.id, adminBoundary.name, ','.join(missingWays)))\n",
    "                    elif not adminBoundary.level or adminBoundary.level < 4:\n",
    "                        logging.warning(\"Id:{} Name:{} has no level or the level < 4\".format(adminBoundary.id, adminBoundary.name))\n",
    "                    else:\n",
    "                        latlons = getLatLons(adminBoundary)\n",
    "                        if len(latlons) <= 2:\n",
    "                            logging.warning(\"Id:{} Name:{} has only {:,} latlon(s)\".format(adminBoundary.id, adminBoundary.name, len(latlons)))\n",
    "                        else:\n",
    "                            for id, ((lat0, lon0), (lat1, lon1)) in enumerate(getLines(latlons)):\n",
    "                                if lat0 > lat1:\n",
    "                                    lat0, lat1 = lat1, lat0\n",
    "                                    lon0, lon1 = lon1, lon0\n",
    "                                if lat1 - lat0 > adminBoundary.maxLatLen:\n",
    "                                    adminBoundary.maxLatLen = lat1 - lat0\n",
    "                                adminBoundary.latVertexes.append(Vertex(id, 'start', lat0))\n",
    "                                adminBoundary.latVertexes.append(Vertex(id, 'end', lat1))\n",
    "                                adminBoundary.lineDict[id] = ((lat0, lon0), (lat1, lon1))\n",
    "                            adminBoundary.latVertexes.sort(key=lambda v: v.value)\n",
    "                            adminBoundaryDict[adminBoundary.id] = adminBoundary\n",
    "            line = f.readline()\n",
    "\n",
    "    if len(imcompleteRelationDict) > 0:\n",
    "        logging.warning(\"There are {:,} of imcomplete relations and {:,} of missing ways. Please check imcompleteRelationIdSet, missingWayIdSet, and imcompleteRelationDict for the details\".format(len(imcompleteRelationIdSet), len(missingWayIdSet)))\n",
    "\n",
    "    with open(adminBoundaryDictFile, 'wb') as f:\n",
    "        pickle.dump(adminBoundaryDict, f)\n",
    "    logging.info('completed to save adminBoundaryDict having {:,} items to {}(elapsed time:{:.3f})'.format(len(adminBoundaryDict), adminBoundaryDictFile, time.time() - start))\n",
    "else:\n",
    "    with open(adminBoundaryDictFile, 'rb') as f:\n",
    "        adminBoundaryDict = pickle.load(f)\n",
    "    logging.info('completed to load adminBoundaryDict having {:,} items to {}(elapsed time:{:.3f})'.format(len(adminBoundaryDict), adminBoundaryDictFile, time.time() - start))\n",
    "    \n",
    "    "
   ]
  },
  {
   "cell_type": "markdown",
   "metadata": {},
   "source": [
    "## function to draw an administrative boundary"
   ]
  },
  {
   "cell_type": "code",
   "execution_count": 15,
   "metadata": {},
   "outputs": [],
   "source": [
    "def drawAdminBoundary(ab, title=None, lat=None, lon=None):\n",
    "    latlons = getLatLons(ab)\n",
    "    lat0, lon0, lat1, lon1 =  getBoundingBox(latlons)\n",
    "    if lat1 - lat0 > lon1 - lon0:\n",
    "        length = lat1 - lat0\n",
    "        latStart = lat0 - length * 0.05\n",
    "        lonStart = (lon0 + lon1 - length) / 2\n",
    "    else:\n",
    "        length = lon1 - lon0\n",
    "        lonStart = lon0 - length * 0.05\n",
    "        latStart = (lat0 + lat1 - length) / 2\n",
    "    latEnd = latStart + length * 1.1\n",
    "    lonEnd = lonStart + length * 1.1\n",
    "    \n",
    "    fig = plt.figure(figsize=(6, 6))\n",
    "    axis = fig.add_subplot(111, xlim=(lonStart, lonEnd), ylim=(latStart, latEnd))\n",
    "    for arr in latlons:\n",
    "        axis.plot([k[1] for k in arr], [k[0] for k in arr], color='black')\n",
    "    if lat and lon:\n",
    "        axis.scatter(lon, lat, color='red', s=100)\n",
    "    if title:\n",
    "        plt.title(title, fontname='MS Gothic')\n",
    "    plt.show()"
   ]
  },
  {
   "cell_type": "code",
   "execution_count": 16,
   "metadata": {},
   "outputs": [
    {
     "data": {
      "image/png": "[encoded data removed]",
      "text/plain": [
       "<Figure size 432x432 with 1 Axes>"
      ]
     },
     "metadata": {
      "needs_background": "light"
     },
     "output_type": "display_data"
    }
   ],
   "source": [
    "# test\n",
    "ab = adminBoundaryDict['2689487']\n",
    "drawAdminBoundary(ab)\n",
    "    "
   ]
  },
  {
   "cell_type": "markdown",
   "metadata": {},
   "source": [
    "## create bounding boxes data"
   ]
  },
  {
   "cell_type": "code",
   "execution_count": 17,
   "metadata": {},
   "outputs": [
    {
     "name": "stderr",
     "output_type": "stream",
     "text": [
      "2020-08-25 12:49:49,579 : INFO : completed to load bounding box info from ReverseGeocoder\\boundingBoxes.pickle(elapsed time:0.079)\n"
     ]
    }
   ],
   "source": [
    "boundingBoxesFile = os.path.join(projectDir, 'boundingBoxes.pickle')\n",
    "start = time.time()\n",
    "\n",
    "if not os.path.exists(boundingBoxesFile):\n",
    "    maxLatLen = 0.\n",
    "    maxLonLen = 0.\n",
    "    bbLatList = []\n",
    "    bbLonList = []\n",
    "\n",
    "    for ab in adminBoundaryDict.values():\n",
    "        latlons = getLatLons(ab)\n",
    "        lat0, lon0, lat1, lon1 = getBoundingBox(latlons)\n",
    "        bbLatList.append(Vertex(ab.id, 'start', lat0))\n",
    "        bbLatList.append(Vertex(ab.id, 'end', lat1))\n",
    "        bbLonList.append(Vertex(ab.id, 'start', lon0))\n",
    "        bbLonList.append(Vertex(ab.id, 'end', lon1))\n",
    "        if lat1 - lat0 > maxLatLen:\n",
    "            maxLatLen = lat1 - lat0\n",
    "        if lon1 - lon0 > maxLonLen:\n",
    "            maxLonLen = lon1 - lon0\n",
    "\n",
    "    bbLatList.sort(key=lambda v: v.value)\n",
    "    bbLonList.sort(key=lambda v: v.value)\n",
    "\n",
    "    with open(boundingBoxesFile, 'wb') as f:\n",
    "        pickle.dump((maxLatLen, maxLonLen, bbLatList, bbLonList), f)\n",
    "    logging.info('completed to save bounding box info to {}(elapsed time:{:.3f})'.format(boundingBoxesFile, time.time() - start))\n",
    "else:\n",
    "    with open(boundingBoxesFile, 'rb') as f:\n",
    "        (maxLatLen, maxLonLen, bbLatList, bbLonList) = pickle.load(f)\n",
    "    logging.info('completed to load bounding box info from {}(elapsed time:{:.3f})'.format(boundingBoxesFile, time.time() - start))\n"
   ]
  },
  {
   "cell_type": "markdown",
   "metadata": {},
   "source": [
    "## funstions to support address name retrieval"
   ]
  },
  {
   "cell_type": "code",
   "execution_count": 22,
   "metadata": {},
   "outputs": [],
   "source": [
    "def getAdminBoundariesInBB(latList, lonList, maxLatLen, maxLonLen, lat, lon):\n",
    "    allowedLatIds = getAllowedIds(latList, maxLatLen, lat)\n",
    "    allowedLonIds = getAllowedIds(lonList, maxLonLen, lon)\n",
    "    return allowedLatIds & allowedLonIds\n",
    "\n",
    "def getAllowedIds(sortedVertexes, maxLen, value):            \n",
    "    allowedIds = set()\n",
    "    deniedIds = set()\n",
    "    index = bisect.bisect_left(KeyWrapper(sortedVertexes, key=lambda v: v.value), value)\n",
    "    for vertex in sortedVertexes[index:]:\n",
    "        if vertex.value <= value + maxLen:\n",
    "            if vertex.vtype == 'start':\n",
    "                deniedIds.add(vertex.id)\n",
    "            elif not vertex.id in deniedIds:\n",
    "                allowedIds.add(vertex.id)\n",
    "        else:\n",
    "            break\n",
    "    return allowedIds\n",
    "\n",
    "def isInPoligon(ab, lat, lon):\n",
    "    crossLines = []\n",
    "    allowedLatIds = getAllowedIds(ab.latVertexes, ab.maxLatLen, lat)\n",
    "    for id in allowedLatIds:\n",
    "        ((lat0, lon0), (lat1, lon1)) = ab.lineDict[id]\n",
    "        a = [lat0 - lat, lon0 - lon]\n",
    "        b = [lat1 - lat, lon1 - lon]\n",
    "        if np.cross(a, b) >= 0:\n",
    "            crossLines.append(id)\n",
    "    return len(crossLines) % 2 == 1\n"
   ]
  },
  {
   "cell_type": "markdown",
   "metadata": {},
   "source": [
    "## function of address name retrieval"
   ]
  },
  {
   "cell_type": "code",
   "execution_count": 23,
   "metadata": {},
   "outputs": [],
   "source": [
    "def getLocationName(lat, lon):\n",
    "    start = datetime.datetime.now()\n",
    "    abList = []\n",
    "    locations = []\n",
    "    inRangeAdminBoundaries = getAdminBoundariesInBB(bbLatList, bbLonList, maxLatLen, maxLonLen, lat, lon)\n",
    "    for id in inRangeAdminBoundaries:\n",
    "        ab = adminBoundaryDict[id]\n",
    "        if isInPoligon(ab, lat, lon):\n",
    "            abList.append(ab)\n",
    "    if abList:\n",
    "        abList.sort(key=lambda ab: ab.level)\n",
    "        for ab in abList:\n",
    "            locations.append({'id':ab.id, 'name':ab.name, 'level':ab.level})\n",
    "    end = datetime.datetime.now()\n",
    "    response = {\n",
    "        'request':\n",
    "        {\n",
    "            'requestTime':start.strftime('%Y-%m-%dT%H:%M:%S'),\n",
    "            'lat':lat,\n",
    "            'lon':lon\n",
    "        },\n",
    "        'response':\n",
    "        {\n",
    "            'responseTime':end.strftime('%Y-%m-%dT%H:%M:%S'),\n",
    "            'locations':locations,\n",
    "        },\n",
    "        'elapsedMilliseconds':int(round((end - start).total_seconds(), 4) * 1000)\n",
    "    }\n",
    "    if abList:\n",
    "        name = ','.join([ab.name for ab in abList])\n",
    "        drawAdminBoundary(abList[-1], name, lat, lon)\n",
    "    \n",
    "    return json.dumps(response, ensure_ascii=False)"
   ]
  },
  {
   "cell_type": "code",
   "execution_count": 27,
   "metadata": {},
   "outputs": [
    {
     "data": {
      "image/png": "[encoded data removed]",
      "text/plain": [
       "<Figure size 432x432 with 1 Axes>"
      ]
     },
     "metadata": {
      "needs_background": "light"
     },
     "output_type": "display_data"
    },
    {
     "data": {
      "text/plain": [
       "'{\"request\": {\"requestTime\": \"2020-08-25T12:57:57\", \"lat\": 35.638185, \"lon\": 139.748784}, \"response\": {\"responseTime\": \"2020-08-25T12:57:57\", \"locations\": [{\"id\": \"1543125\", \"name\": \"東京都\", \"level\": 4}, {\"id\": \"1761717\", \"name\": \"港区\", \"level\": 7}]}, \"elapsedMilliseconds\": 21}'"
      ]
     },
     "execution_count": 27,
     "metadata": {},
     "output_type": "execute_result"
    }
   ],
   "source": [
    "#test\n",
    "lat = 35.638185 \n",
    "lon = 139.748784\n",
    "\n",
    "getLocationName(lat, lon)\n"
   ]
  },
  {
   "cell_type": "code",
   "execution_count": null,
   "metadata": {},
   "outputs": [],
   "source": []
  }
 ],
 "metadata": {
  "kernelspec": {
   "display_name": "Python 3",
   "language": "python",
   "name": "python3"
  },
  "language_info": {
   "codemirror_mode": {
    "name": "ipython",
    "version": 3
   },
   "file_extension": ".py",
   "mimetype": "text/x-python",
   "name": "python",
   "nbconvert_exporter": "python",
   "pygments_lexer": "ipython3",
   "version": "3.7.4"
  }
 },
 "nbformat": 4,
 "nbformat_minor": 2
}
